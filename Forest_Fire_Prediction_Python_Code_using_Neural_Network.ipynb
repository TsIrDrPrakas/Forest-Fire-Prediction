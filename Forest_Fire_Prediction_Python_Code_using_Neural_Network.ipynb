{
  "nbformat": 4,
  "nbformat_minor": 0,
  "metadata": {
    "colab": {
      "provenance": [],
      "authorship_tag": "ABX9TyMlg2H5FwDPEZZS4911WwAX",
      "include_colab_link": true
    },
    "kernelspec": {
      "name": "python3",
      "display_name": "Python 3"
    },
    "language_info": {
      "name": "python"
    }
  },
  "cells": [
    {
      "cell_type": "markdown",
      "metadata": {
        "id": "view-in-github",
        "colab_type": "text"
      },
      "source": [
        "<a href=\"https://colab.research.google.com/github/TsIrDrPrakas/Forest-Fire-Prediction/blob/master/Forest_Fire_Prediction_Python_Code_using_Neural_Network.ipynb\" target=\"_parent\"><img src=\"https://colab.research.google.com/assets/colab-badge.svg\" alt=\"Open In Colab\"/></a>"
      ]
    },
    {
      "cell_type": "markdown",
      "source": [
        "# **Import Library**"
      ],
      "metadata": {
        "id": "7zPDUE-2CWdk"
      }
    },
    {
      "cell_type": "code",
      "execution_count": 28,
      "metadata": {
        "id": "-q_ImKAd_oiy"
      },
      "outputs": [],
      "source": [
        "import pandas as pd\n",
        "from google.colab import files  # Only needed if working in Google Colab\n",
        "from sklearn.preprocessing import LabelEncoder, StandardScaler  # Correct class names\n",
        "# Import the function for splitting datasets into training and testing sets:\n",
        "from sklearn.model_selection import train_test_split\n",
        "from sklearn.neural_network import MLPClassifier  # Import the model itself\n",
        "# Import functions for evaluating the performance of classification models:\n",
        "from sklearn.metrics import confusion_matrix, classification_report\n",
        "# Import the matplotlib.pyplot module for creating visualizations,\n",
        "# and give it a shorter alias for convenient use\n",
        "import matplotlib.pyplot as plt"
      ]
    },
    {
      "cell_type": "markdown",
      "source": [
        "### **Upload Data**"
      ],
      "metadata": {
        "id": "vympRUHwFzhL"
      }
    },
    {
      "cell_type": "code",
      "source": [
        "# -------------------------------------------------------------------\n",
        "# 1. Initiate file upload process:\n",
        "#   - Prompts user to select a file from their local device.\n",
        "#   - Stores information about the uploaded file(s) in the 'uploaded' variable.\n",
        "uploaded = files.upload()\n"
      ],
      "metadata": {
        "colab": {
          "base_uri": "https://localhost:8080/",
          "height": 73
        },
        "id": "jiXdZyrLNaWB",
        "outputId": "cbddc61d-93f1-4e91-de69-c963a769c615"
      },
      "execution_count": 33,
      "outputs": [
        {
          "output_type": "display_data",
          "data": {
            "text/plain": [
              "<IPython.core.display.HTML object>"
            ],
            "text/html": [
              "\n",
              "     <input type=\"file\" id=\"files-2f27f5f9-951c-4bc1-b050-516e164ea6da\" name=\"files[]\" multiple disabled\n",
              "        style=\"border:none\" />\n",
              "     <output id=\"result-2f27f5f9-951c-4bc1-b050-516e164ea6da\">\n",
              "      Upload widget is only available when the cell has been executed in the\n",
              "      current browser session. Please rerun this cell to enable.\n",
              "      </output>\n",
              "      <script>// Copyright 2017 Google LLC\n",
              "//\n",
              "// Licensed under the Apache License, Version 2.0 (the \"License\");\n",
              "// you may not use this file except in compliance with the License.\n",
              "// You may obtain a copy of the License at\n",
              "//\n",
              "//      http://www.apache.org/licenses/LICENSE-2.0\n",
              "//\n",
              "// Unless required by applicable law or agreed to in writing, software\n",
              "// distributed under the License is distributed on an \"AS IS\" BASIS,\n",
              "// WITHOUT WARRANTIES OR CONDITIONS OF ANY KIND, either express or implied.\n",
              "// See the License for the specific language governing permissions and\n",
              "// limitations under the License.\n",
              "\n",
              "/**\n",
              " * @fileoverview Helpers for google.colab Python module.\n",
              " */\n",
              "(function(scope) {\n",
              "function span(text, styleAttributes = {}) {\n",
              "  const element = document.createElement('span');\n",
              "  element.textContent = text;\n",
              "  for (const key of Object.keys(styleAttributes)) {\n",
              "    element.style[key] = styleAttributes[key];\n",
              "  }\n",
              "  return element;\n",
              "}\n",
              "\n",
              "// Max number of bytes which will be uploaded at a time.\n",
              "const MAX_PAYLOAD_SIZE = 100 * 1024;\n",
              "\n",
              "function _uploadFiles(inputId, outputId) {\n",
              "  const steps = uploadFilesStep(inputId, outputId);\n",
              "  const outputElement = document.getElementById(outputId);\n",
              "  // Cache steps on the outputElement to make it available for the next call\n",
              "  // to uploadFilesContinue from Python.\n",
              "  outputElement.steps = steps;\n",
              "\n",
              "  return _uploadFilesContinue(outputId);\n",
              "}\n",
              "\n",
              "// This is roughly an async generator (not supported in the browser yet),\n",
              "// where there are multiple asynchronous steps and the Python side is going\n",
              "// to poll for completion of each step.\n",
              "// This uses a Promise to block the python side on completion of each step,\n",
              "// then passes the result of the previous step as the input to the next step.\n",
              "function _uploadFilesContinue(outputId) {\n",
              "  const outputElement = document.getElementById(outputId);\n",
              "  const steps = outputElement.steps;\n",
              "\n",
              "  const next = steps.next(outputElement.lastPromiseValue);\n",
              "  return Promise.resolve(next.value.promise).then((value) => {\n",
              "    // Cache the last promise value to make it available to the next\n",
              "    // step of the generator.\n",
              "    outputElement.lastPromiseValue = value;\n",
              "    return next.value.response;\n",
              "  });\n",
              "}\n",
              "\n",
              "/**\n",
              " * Generator function which is called between each async step of the upload\n",
              " * process.\n",
              " * @param {string} inputId Element ID of the input file picker element.\n",
              " * @param {string} outputId Element ID of the output display.\n",
              " * @return {!Iterable<!Object>} Iterable of next steps.\n",
              " */\n",
              "function* uploadFilesStep(inputId, outputId) {\n",
              "  const inputElement = document.getElementById(inputId);\n",
              "  inputElement.disabled = false;\n",
              "\n",
              "  const outputElement = document.getElementById(outputId);\n",
              "  outputElement.innerHTML = '';\n",
              "\n",
              "  const pickedPromise = new Promise((resolve) => {\n",
              "    inputElement.addEventListener('change', (e) => {\n",
              "      resolve(e.target.files);\n",
              "    });\n",
              "  });\n",
              "\n",
              "  const cancel = document.createElement('button');\n",
              "  inputElement.parentElement.appendChild(cancel);\n",
              "  cancel.textContent = 'Cancel upload';\n",
              "  const cancelPromise = new Promise((resolve) => {\n",
              "    cancel.onclick = () => {\n",
              "      resolve(null);\n",
              "    };\n",
              "  });\n",
              "\n",
              "  // Wait for the user to pick the files.\n",
              "  const files = yield {\n",
              "    promise: Promise.race([pickedPromise, cancelPromise]),\n",
              "    response: {\n",
              "      action: 'starting',\n",
              "    }\n",
              "  };\n",
              "\n",
              "  cancel.remove();\n",
              "\n",
              "  // Disable the input element since further picks are not allowed.\n",
              "  inputElement.disabled = true;\n",
              "\n",
              "  if (!files) {\n",
              "    return {\n",
              "      response: {\n",
              "        action: 'complete',\n",
              "      }\n",
              "    };\n",
              "  }\n",
              "\n",
              "  for (const file of files) {\n",
              "    const li = document.createElement('li');\n",
              "    li.append(span(file.name, {fontWeight: 'bold'}));\n",
              "    li.append(span(\n",
              "        `(${file.type || 'n/a'}) - ${file.size} bytes, ` +\n",
              "        `last modified: ${\n",
              "            file.lastModifiedDate ? file.lastModifiedDate.toLocaleDateString() :\n",
              "                                    'n/a'} - `));\n",
              "    const percent = span('0% done');\n",
              "    li.appendChild(percent);\n",
              "\n",
              "    outputElement.appendChild(li);\n",
              "\n",
              "    const fileDataPromise = new Promise((resolve) => {\n",
              "      const reader = new FileReader();\n",
              "      reader.onload = (e) => {\n",
              "        resolve(e.target.result);\n",
              "      };\n",
              "      reader.readAsArrayBuffer(file);\n",
              "    });\n",
              "    // Wait for the data to be ready.\n",
              "    let fileData = yield {\n",
              "      promise: fileDataPromise,\n",
              "      response: {\n",
              "        action: 'continue',\n",
              "      }\n",
              "    };\n",
              "\n",
              "    // Use a chunked sending to avoid message size limits. See b/62115660.\n",
              "    let position = 0;\n",
              "    do {\n",
              "      const length = Math.min(fileData.byteLength - position, MAX_PAYLOAD_SIZE);\n",
              "      const chunk = new Uint8Array(fileData, position, length);\n",
              "      position += length;\n",
              "\n",
              "      const base64 = btoa(String.fromCharCode.apply(null, chunk));\n",
              "      yield {\n",
              "        response: {\n",
              "          action: 'append',\n",
              "          file: file.name,\n",
              "          data: base64,\n",
              "        },\n",
              "      };\n",
              "\n",
              "      let percentDone = fileData.byteLength === 0 ?\n",
              "          100 :\n",
              "          Math.round((position / fileData.byteLength) * 100);\n",
              "      percent.textContent = `${percentDone}% done`;\n",
              "\n",
              "    } while (position < fileData.byteLength);\n",
              "  }\n",
              "\n",
              "  // All done.\n",
              "  yield {\n",
              "    response: {\n",
              "      action: 'complete',\n",
              "    }\n",
              "  };\n",
              "}\n",
              "\n",
              "scope.google = scope.google || {};\n",
              "scope.google.colab = scope.google.colab || {};\n",
              "scope.google.colab._files = {\n",
              "  _uploadFiles,\n",
              "  _uploadFilesContinue,\n",
              "};\n",
              "})(self);\n",
              "</script> "
            ]
          },
          "metadata": {}
        },
        {
          "output_type": "stream",
          "name": "stdout",
          "text": [
            "Saving FOREST_FIRE.xlsx to FOREST_FIRE.xlsx\n"
          ]
        }
      ]
    },
    {
      "cell_type": "code",
      "source": [
        "# -------------------------------------------------------------------\n",
        "# 2. Load the Excel file into a DataFrame:\n",
        "#   - Uses pandas' read_excel function to read the specified file.\n",
        "#   - Assumes the file is an Excel file with the given filename.\n",
        "#   - Stores the loaded data in a pandas DataFrame named 'data'.\n",
        "data = pd.read_excel(uploaded[\"FOREST_FIRE.xlsx\"])"
      ],
      "metadata": {
        "id": "ptx_ILedPTnp"
      },
      "execution_count": 40,
      "outputs": []
    },
    {
      "cell_type": "code",
      "source": [
        "# -------------------------------------------------------------------\n",
        "# 3. Display the loaded DataFrame:\n",
        "#   - Prints a visual representation of the DataFrame to the console.\n",
        "#   - Allows for initial inspection of the data.\n",
        "print(data)"
      ],
      "metadata": {
        "colab": {
          "base_uri": "https://localhost:8080/"
        },
        "id": "8W-PMqmrbe5H",
        "outputId": "29252d49-70b3-4bb8-ac9d-3931b0d5ff16"
      },
      "execution_count": 41,
      "outputs": [
        {
          "output_type": "stream",
          "name": "stdout",
          "text": [
            "     Temperature   RH   Ws  Rain   FFMC  DMC    DC  ISI  BUI  FWI      Classes\n",
            "0             29   57   18    0.0  65.7  3.4   7.6  1.3  3.4  0.5  not fire   \n",
            "1             29   61   13    1.3  64.4  4.1   7.6  1.0  3.9  0.4  not fire   \n",
            "2             26   82   22   13.1  47.1  2.5   7.1  0.3  2.7  0.1  not fire   \n",
            "3             25   89   13    2.5  28.6  1.3   6.9  0.0  1.7  0.0  not fire   \n",
            "4             27   77   16    0.0  64.8  3.0  14.2  1.2  3.9  0.5  not fire   \n",
            "..           ...  ...  ...    ...   ...  ...   ...  ...  ...  ...          ...\n",
            "117           31   54   11    0.0  82.0  6.0  16.3  2.5  6.2  1.7  not fire   \n",
            "118           31   66   11    0.0  85.7  8.3  24.9  4.0  9.0  4.1      fire   \n",
            "119           32   47   14    0.7  77.5  7.1   8.8  1.8  6.8  0.9  not fire   \n",
            "120           26   80   16    1.8  47.4  2.9   7.7  0.3  3.0  0.1  not fire   \n",
            "121           25   78   14    1.4  45.0  1.9   7.5  0.2  2.4  0.1  not fire   \n",
            "\n",
            "[122 rows x 11 columns]\n"
          ]
        }
      ]
    },
    {
      "cell_type": "markdown",
      "source": [
        "### **Data Transformation**"
      ],
      "metadata": {
        "id": "95ezLR3_bs2k"
      }
    },
    {
      "cell_type": "code",
      "source": [
        "data.columns # run this to check the haeders if needed"
      ],
      "metadata": {
        "colab": {
          "base_uri": "https://localhost:8080/"
        },
        "id": "RLKimk--eccU",
        "outputId": "11d300c2-a277-40bc-f52a-094abdf541b6"
      },
      "execution_count": 42,
      "outputs": [
        {
          "output_type": "execute_result",
          "data": {
            "text/plain": [
              "Index(['Temperature', ' RH', ' Ws', 'Rain ', 'FFMC', 'DMC', 'DC', 'ISI', 'BUI',\n",
              "       'FWI', 'Classes'],\n",
              "      dtype='object')"
            ]
          },
          "metadata": {},
          "execution_count": 42
        }
      ]
    },
    {
      "cell_type": "code",
      "source": [
        "print('Data before Transformation', data)\n",
        "\n",
        "le = LabelEncoder()  # Instantiate the LabelEncoder\n",
        "data['Classes'] = le.fit_transform(data['Classes'])  # Apply to the 'Classes' column\n",
        "\n",
        "print('Data after Transformation', data)\n"
      ],
      "metadata": {
        "colab": {
          "base_uri": "https://localhost:8080/"
        },
        "id": "OqEaApc-b08c",
        "outputId": "d0b7afe3-0792-48a9-afcc-997150b6cf90"
      },
      "execution_count": 43,
      "outputs": [
        {
          "output_type": "stream",
          "name": "stdout",
          "text": [
            "Data before Transformation      Temperature   RH   Ws  Rain   FFMC  DMC    DC  ISI  BUI  FWI      Classes\n",
            "0             29   57   18    0.0  65.7  3.4   7.6  1.3  3.4  0.5  not fire   \n",
            "1             29   61   13    1.3  64.4  4.1   7.6  1.0  3.9  0.4  not fire   \n",
            "2             26   82   22   13.1  47.1  2.5   7.1  0.3  2.7  0.1  not fire   \n",
            "3             25   89   13    2.5  28.6  1.3   6.9  0.0  1.7  0.0  not fire   \n",
            "4             27   77   16    0.0  64.8  3.0  14.2  1.2  3.9  0.5  not fire   \n",
            "..           ...  ...  ...    ...   ...  ...   ...  ...  ...  ...          ...\n",
            "117           31   54   11    0.0  82.0  6.0  16.3  2.5  6.2  1.7  not fire   \n",
            "118           31   66   11    0.0  85.7  8.3  24.9  4.0  9.0  4.1      fire   \n",
            "119           32   47   14    0.7  77.5  7.1   8.8  1.8  6.8  0.9  not fire   \n",
            "120           26   80   16    1.8  47.4  2.9   7.7  0.3  3.0  0.1  not fire   \n",
            "121           25   78   14    1.4  45.0  1.9   7.5  0.2  2.4  0.1  not fire   \n",
            "\n",
            "[122 rows x 11 columns]\n",
            "Data after Transformation      Temperature   RH   Ws  Rain   FFMC  DMC    DC  ISI  BUI  FWI  Classes\n",
            "0             29   57   18    0.0  65.7  3.4   7.6  1.3  3.4  0.5        5\n",
            "1             29   61   13    1.3  64.4  4.1   7.6  1.0  3.9  0.4        5\n",
            "2             26   82   22   13.1  47.1  2.5   7.1  0.3  2.7  0.1        5\n",
            "3             25   89   13    2.5  28.6  1.3   6.9  0.0  1.7  0.0        5\n",
            "4             27   77   16    0.0  64.8  3.0  14.2  1.2  3.9  0.5        5\n",
            "..           ...  ...  ...    ...   ...  ...   ...  ...  ...  ...      ...\n",
            "117           31   54   11    0.0  82.0  6.0  16.3  2.5  6.2  1.7        5\n",
            "118           31   66   11    0.0  85.7  8.3  24.9  4.0  9.0  4.1        2\n",
            "119           32   47   14    0.7  77.5  7.1   8.8  1.8  6.8  0.9        5\n",
            "120           26   80   16    1.8  47.4  2.9   7.7  0.3  3.0  0.1        5\n",
            "121           25   78   14    1.4  45.0  1.9   7.5  0.2  2.4  0.1        5\n",
            "\n",
            "[122 rows x 11 columns]\n"
          ]
        }
      ]
    },
    {
      "cell_type": "code",
      "source": [
        "# -------------------------------------------------------------------\n",
        "# 1. Display data before scaling:\n",
        "#   - Prints a visual representation of the original DataFrame.\n",
        "#   - Allows for initial inspection of the data's distribution.\n",
        "print('Data before Scaling \\n', data)\n",
        "# -------------------------------------------------------------------\n",
        "# 2. Identify input columns for scaling:\n",
        "#   - Selects all columns except the last one using slicing.\n",
        "#   - Assumes the last column ('Classes') should not be scaled.\n",
        "inplist = data.columns[:-1]\n",
        "# -------------------------------------------------------------------\n",
        "# 3. Initialize the scaling object:\n",
        "#   - Creates a StandardScaler instance for standardization.\n",
        "scale = StandardScaler()\n",
        "# -------------------------------------------------------------------\n",
        "# 4. Scale the input columns:\n",
        "#   - Fits the scaler to the input columns to learn their means and standard deviations.\n",
        "#   - Transforms the input columns by standardizing them using the learned parameters.\n",
        "#   - Updates the DataFrame with the scaled values.\n",
        "data[inplist]=scale.fit_transform(data[inplist])\n",
        "# -------------------------------------------------------------------\n",
        "# 5. Display data after scaling:\n",
        "#   - Prints the DataFrame again to visualize the scaled data.\n",
        "#   - Allows for comparison with the original distribution\n",
        "print('Data after Scaling \\n', data)"
      ],
      "metadata": {
        "colab": {
          "base_uri": "https://localhost:8080/"
        },
        "id": "sOjC8TXFe4ie",
        "outputId": "0aeb4f2f-d555-4b75-a24e-de12c9eefb26"
      },
      "execution_count": 44,
      "outputs": [
        {
          "output_type": "stream",
          "name": "stdout",
          "text": [
            "Data before Scaling \n",
            "      Temperature   RH   Ws  Rain   FFMC  DMC    DC  ISI  BUI  FWI  Classes\n",
            "0             29   57   18    0.0  65.7  3.4   7.6  1.3  3.4  0.5        5\n",
            "1             29   61   13    1.3  64.4  4.1   7.6  1.0  3.9  0.4        5\n",
            "2             26   82   22   13.1  47.1  2.5   7.1  0.3  2.7  0.1        5\n",
            "3             25   89   13    2.5  28.6  1.3   6.9  0.0  1.7  0.0        5\n",
            "4             27   77   16    0.0  64.8  3.0  14.2  1.2  3.9  0.5        5\n",
            "..           ...  ...  ...    ...   ...  ...   ...  ...  ...  ...      ...\n",
            "117           31   54   11    0.0  82.0  6.0  16.3  2.5  6.2  1.7        5\n",
            "118           31   66   11    0.0  85.7  8.3  24.9  4.0  9.0  4.1        2\n",
            "119           32   47   14    0.7  77.5  7.1   8.8  1.8  6.8  0.9        5\n",
            "120           26   80   16    1.8  47.4  2.9   7.7  0.3  3.0  0.1        5\n",
            "121           25   78   14    1.4  45.0  1.9   7.5  0.2  2.4  0.1        5\n",
            "\n",
            "[122 rows x 11 columns]\n",
            "Data after Scaling \n",
            "      Temperature        RH        Ws     Rain       FFMC       DMC        DC  \\\n",
            "0      -0.659354 -0.988010  0.704943 -0.351193 -0.579094 -0.793971 -0.883547   \n",
            "1      -0.659354 -0.627929 -1.057415  0.190628 -0.662993 -0.731627 -0.883547   \n",
            "2      -1.566585  1.262498  2.114830  5.108701 -1.779495 -0.874127 -0.893243   \n",
            "3      -1.868995  1.892641 -1.057415  0.690771 -2.973443 -0.981003 -0.897122   \n",
            "4      -1.264174  0.812397  0.000000 -0.351193 -0.637178 -0.829596 -0.755555   \n",
            "..           ...       ...       ...       ...       ...       ...       ...   \n",
            "117    -0.054533 -1.258071 -1.762358 -0.351193  0.472871 -0.562408 -0.714830   \n",
            "118    -0.054533 -0.177827 -1.762358 -0.351193  0.711661 -0.357564 -0.548052   \n",
            "119     0.247877 -1.888213 -0.704943 -0.059443  0.182451 -0.464440 -0.860276   \n",
            "120    -1.566585  1.082458  0.000000  0.399021 -1.760134 -0.838502 -0.881608   \n",
            "121    -1.868995  0.902417 -0.704943  0.232307 -1.915024 -0.927565 -0.885486   \n",
            "\n",
            "          ISI       BUI       FWI  Classes  \n",
            "0   -0.782804 -0.834294 -0.803842        5  \n",
            "1   -0.882493 -0.799608 -0.819672        5  \n",
            "2   -1.115101 -0.882855 -0.867163        5  \n",
            "3   -1.214790 -0.952228 -0.882993        5  \n",
            "4   -0.816034 -0.799608 -0.803842        5  \n",
            "..        ...       ...       ...      ...  \n",
            "117 -0.384048 -0.640050 -0.613878        5  \n",
            "118  0.114397 -0.445806 -0.233951        2  \n",
            "119 -0.616656 -0.598426 -0.740520        5  \n",
            "120 -1.115101 -0.862043 -0.867163        5  \n",
            "121 -1.148330 -0.903667 -0.867163        5  \n",
            "\n",
            "[122 rows x 11 columns]\n"
          ]
        }
      ]
    },
    {
      "cell_type": "markdown",
      "source": [
        "### **Classification Model Construction**"
      ],
      "metadata": {
        "id": "U1c8RoCjjNgA"
      }
    },
    {
      "cell_type": "code",
      "source": [
        "# -------------------------------------------------------------------\n",
        "# 1. Separate features (X) and target variable (y):\n",
        "#   - Select all columns except the last one for features.\n",
        "x=data.values[:,:-1] # input all rows exclude last column\n",
        "y=data.values[:,-1] # output all rows only in the last column\n",
        "# -------------------------------------------------------------------\n",
        "# 2. Split data into training and testing sets:\n",
        "#   - Use train_test_split from sklearn.model_selection for stratified sampling\n",
        "\n",
        "x_train, x_test, y_train, y_test = train_test_split(\n",
        "    x, y, test_size=0.3, random_state=11\n",
        ")\n",
        "\n",
        "# - train_test_split from sklearn.model_selection is specifically designed for\n",
        "#   splitting training and testing sets from DataFrames and ensures proper handling\n",
        "#   of potential categorical data and stratification for balanced class distribution.\n",
        "# - 'test_size=0.3' allocates 30% of the data for testing and 70% for training.\n",
        "# - 'random_state=11' sets a seed for reproducibility, ensuring the same split\n",
        "#   each time the code is run."
      ],
      "metadata": {
        "id": "uTHjsZ1BgBVX"
      },
      "execution_count": 48,
      "outputs": []
    },
    {
      "cell_type": "code",
      "source": [
        "# -------------------------------------------------------------------\n",
        "# 1. Create an MLPClassifier instance:\n",
        "#   - Instantiate a Multi-layer Perceptron (MLP) classifier model.\n",
        "clf = MLPClassifier(\n",
        "    hidden_layer_sizes=(3,),\n",
        "    activation='logistic',\n",
        "    max_iter=150,\n",
        "    solver='adam',\n",
        "    learning_rate='constant',\n",
        "    learning_rate_init=0.19\n",
        ")\n",
        "\n",
        "# -------------------------------------------------------------------\n",
        "# Explanation of parameters:\n",
        "# - hidden_layer_sizes=(3,): Specifies one hidden layer with 3 neurons.\n",
        "# - activation='logistic': Uses the logistic sigmoid activation function.\n",
        "# - max_iter=150: Sets a maximum of 150 iterations for training.\n",
        "# - solver='adam': Employs the Adam optimization algorithm for weight updates.\n",
        "# - learning_rate='constant': Maintains a constant learning rate throughout training.\n",
        "# - learning_rate_init=0.19: Initializes the learning rate at 0.19.\n"
      ],
      "metadata": {
        "id": "qls7FWQRmnaa"
      },
      "execution_count": 49,
      "outputs": []
    },
    {
      "cell_type": "code",
      "source": [
        "clf.fit(x_train, y_train)\n",
        "ypred=clf.predict(x_test)\n",
        "cm=confusion_matrix(y_test,ypred)\n",
        "print('Confusion Matrix \\n', cm)\n",
        "print('Classification Report \\n', classification_report(y_test,ypred))\n",
        "print('Coefficents', clf.coefs_)\n",
        "print('Intercepts,', clf.intercepts_)\n",
        "loss_values=clf.loss_curve_\n",
        "plt.plot(loss_values)\n",
        "plt.xlabel('Epochs')\n",
        "plt.ylabel('Loss')\n",
        "plt.show()\n"
      ],
      "metadata": {
        "id": "sq72GmaQn4qF"
      },
      "execution_count": null,
      "outputs": []
    },
    {
      "cell_type": "code",
      "source": [
        "# -------------------------------------------------------------------\n",
        "# 1. Train the model:\n",
        "#   - Fit the MLP classifier to the training data.\n",
        "clf.fit(x_train, y_train)\n",
        "\n",
        "# -------------------------------------------------------------------\n",
        "# 2. Make predictions on the testing set:\n",
        "#   - Generate predictions using the trained model.\n",
        "ypred = clf.predict(x_test)\n",
        "\n",
        "# -------------------------------------------------------------------\n",
        "# 3. Evaluate model performance:\n",
        "#   - Generate a confusion matrix to visualize correct and incorrect predictions.\n",
        "cm = confusion_matrix(y_test, ypred)\n",
        "print('Confusion Matrix \\n', cm)\n",
        "\n",
        "#   - Print a classification report with detailed metrics like precision, recall, etc.\n",
        "print('Classification Report \\n', classification_report(y_test, ypred))\n",
        "\n",
        "# -------------------------------------------------------------------\n",
        "# 4. Inspect model parameters (not directly applicable to MLPClassifier):\n",
        "#   - Print the learned coefficients (weights) between layers.\n",
        "#   - Note: MLPClassifier doesn't have 'coefs_' or 'intercepts_' attributes.\n",
        "print('Coefficients', clf.coefs_)  # Commented out as not applicable\n",
        "print('Intercepts', clf.intercepts_)  # Commented out as not applicable\n",
        "\n",
        "# -------------------------------------------------------------------\n",
        "# 5. Visualize loss curve:\n",
        "#   - Plot the loss values over training epochs to observe convergence.\n",
        "loss_values = clf.loss_curve_\n",
        "plt.plot(loss_values)\n",
        "plt.xlabel('Epochs')\n",
        "plt.ylabel('Loss')\n",
        "plt.show()\n"
      ],
      "metadata": {
        "colab": {
          "base_uri": "https://localhost:8080/",
          "height": 1000
        },
        "id": "xnYdFBpnqMQl",
        "outputId": "97be2dcd-795d-46a0-ec2f-a586028caffd"
      },
      "execution_count": 52,
      "outputs": [
        {
          "output_type": "stream",
          "name": "stderr",
          "text": [
            "/usr/local/lib/python3.10/dist-packages/sklearn/neural_network/_multilayer_perceptron.py:686: ConvergenceWarning: Stochastic Optimizer: Maximum iterations (150) reached and the optimization hasn't converged yet.\n",
            "  warnings.warn(\n",
            "/usr/local/lib/python3.10/dist-packages/sklearn/metrics/_classification.py:1344: UndefinedMetricWarning: Precision and F-score are ill-defined and being set to 0.0 in labels with no predicted samples. Use `zero_division` parameter to control this behavior.\n",
            "  _warn_prf(average, modifier, msg_start, len(result))\n",
            "/usr/local/lib/python3.10/dist-packages/sklearn/metrics/_classification.py:1344: UndefinedMetricWarning: Recall and F-score are ill-defined and being set to 0.0 in labels with no true samples. Use `zero_division` parameter to control this behavior.\n",
            "  _warn_prf(average, modifier, msg_start, len(result))\n",
            "/usr/local/lib/python3.10/dist-packages/sklearn/metrics/_classification.py:1344: UndefinedMetricWarning: Precision and F-score are ill-defined and being set to 0.0 in labels with no predicted samples. Use `zero_division` parameter to control this behavior.\n",
            "  _warn_prf(average, modifier, msg_start, len(result))\n",
            "/usr/local/lib/python3.10/dist-packages/sklearn/metrics/_classification.py:1344: UndefinedMetricWarning: Recall and F-score are ill-defined and being set to 0.0 in labels with no true samples. Use `zero_division` parameter to control this behavior.\n",
            "  _warn_prf(average, modifier, msg_start, len(result))\n",
            "/usr/local/lib/python3.10/dist-packages/sklearn/metrics/_classification.py:1344: UndefinedMetricWarning: Precision and F-score are ill-defined and being set to 0.0 in labels with no predicted samples. Use `zero_division` parameter to control this behavior.\n",
            "  _warn_prf(average, modifier, msg_start, len(result))\n",
            "/usr/local/lib/python3.10/dist-packages/sklearn/metrics/_classification.py:1344: UndefinedMetricWarning: Recall and F-score are ill-defined and being set to 0.0 in labels with no true samples. Use `zero_division` parameter to control this behavior.\n",
            "  _warn_prf(average, modifier, msg_start, len(result))\n"
          ]
        },
        {
          "output_type": "stream",
          "name": "stdout",
          "text": [
            "Confusion Matrix \n",
            " [[ 0  1  0  0]\n",
            " [ 0 10  0  1]\n",
            " [ 0  0  0  0]\n",
            " [ 0  1  1 23]]\n",
            "Classification Report \n",
            "               precision    recall  f1-score   support\n",
            "\n",
            "         1.0       0.00      0.00      0.00         1\n",
            "         2.0       0.83      0.91      0.87        11\n",
            "         3.0       0.00      0.00      0.00         0\n",
            "         5.0       0.96      0.92      0.94        25\n",
            "\n",
            "    accuracy                           0.89        37\n",
            "   macro avg       0.45      0.46      0.45        37\n",
            "weighted avg       0.90      0.89      0.89        37\n",
            "\n",
            "Coefficients [array([[ 6.59031378,  3.25903694,  0.76780741],\n",
            "       [-2.75133869, -2.10303124, -0.30083217],\n",
            "       [ 0.15670268,  2.70080808,  1.20806259],\n",
            "       [-4.15467007, -4.38745909, -1.40789123],\n",
            "       [ 3.58308776, -4.31072827,  4.8958033 ],\n",
            "       [-4.00591865,  0.72119081, -5.83695099],\n",
            "       [ 1.64124024, -0.75417836,  5.56732864],\n",
            "       [-2.46616152, -6.56654005,  4.36252843],\n",
            "       [-2.30503007, -0.30632953, -2.32073539],\n",
            "       [-3.57052305, -4.12804091,  3.2162556 ]]), array([[-4.35422603, -3.15865524,  3.6492414 , -2.54672362, -3.299456  ,\n",
            "         0.76153076],\n",
            "       [-3.61496294, -3.67231159, -2.73225901, -4.61274515,  0.64812733,\n",
            "         7.04548379],\n",
            "       [ 3.29005025, -0.56889657,  4.92909107, -5.48203558, -3.90761638,\n",
            "        -4.0710948 ]])]\n",
            "Intercepts [array([ 3.98961022, -1.56146145, -1.52456771]), array([ 0.19991919,  1.22171101, -1.1814157 ,  2.85510338,  1.16392664,\n",
            "       -1.37462275])]\n"
          ]
        },
        {
          "output_type": "display_data",
          "data": {
            "text/plain": [
              "<Figure size 640x480 with 1 Axes>"
            ],
            "image/png": "[encoded data removed]"
          },
          "metadata": {}
        }
      ]
    }
  ]
}